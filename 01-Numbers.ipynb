{
 "cells": [
  {
   "cell_type": "markdown",
   "id": "e89e63be",
   "metadata": {},
   "source": [
    "# Numbers and more in Python !"
   ]
  },
  {
   "cell_type": "markdown",
   "id": "d51f60c0",
   "metadata": {},
   "source": [
    "In this lecture, we delve into numerical concepts and their application in elementary mathematics."
   ]
  },
  {
   "cell_type": "markdown",
   "id": "e2f885bf",
   "metadata": {},
   "source": [
    "In our studies, we explore the following areas: \n",
    "1. Types of Numbers in Python\n",
    "2. Basic Arithemetic\n",
    "3. Difference between Classic Division and Floor Division.\n",
    "4. Object Assignment in Python."
   ]
  },
  {
   "cell_type": "markdown",
   "id": "15962e88",
   "metadata": {},
   "source": [
    "# Types of Numbers "
   ]
  },
  {
   "cell_type": "markdown",
   "id": "cbf923e6",
   "metadata": {},
   "source": [
    "Throughout this course, our focus will primarily be on two fundamental types of numbers in Python: integers and floating point numbers.\n",
    "\n",
    "Integers represent whole numbers, which can be either positive or negative. For instance, 2 and -2 are examples of integers.\n",
    "\n",
    "Floating point numbers, on the other hand, are characterized by the presence of a decimal point or by using exponential notation (e). Examples include 2.0, -2.1, and 4E2 (equivalent to 4 times 10 to the power of 2).\n",
    "\n",
    "During our study, we'll predominantly engage with integers and simple floating point numbers. Below is a table illustrating these two main types along with some examples:"
   ]
  },
  {
   "cell_type": "markdown",
   "id": "cce3dbd4",
   "metadata": {},
   "source": [
    "|Examples| Number(Types)|\n",
    "|--------|--------------|\n",
    "|0,5,-4,100| Integers|\n",
    "|1.2,-7.2,6e2| Floating Point Numbers|"
   ]
  },
  {
   "cell_type": "markdown",
   "id": "5e5bcd5a",
   "metadata": {},
   "source": [
    "Let's commence by exploring fundamental mathematical operations."
   ]
  },
  {
   "cell_type": "markdown",
   "id": "0baf3eae",
   "metadata": {},
   "source": [
    "# Basic Arithemetic"
   ]
  },
  {
   "cell_type": "code",
   "execution_count": 2,
   "id": "1e7cd8ad",
   "metadata": {},
   "outputs": [
    {
     "data": {
      "text/plain": [
       "4"
      ]
     },
     "execution_count": 2,
     "metadata": {},
     "output_type": "execute_result"
    }
   ],
   "source": [
    "# Addition\n",
    "2+2"
   ]
  },
  {
   "cell_type": "code",
   "execution_count": 3,
   "id": "8cd89748",
   "metadata": {},
   "outputs": [
    {
     "data": {
      "text/plain": [
       "3"
      ]
     },
     "execution_count": 3,
     "metadata": {},
     "output_type": "execute_result"
    }
   ],
   "source": [
    "# Subtraction\n",
    "5-2"
   ]
  },
  {
   "cell_type": "code",
   "execution_count": 4,
   "id": "6821f3dd",
   "metadata": {},
   "outputs": [
    {
     "data": {
      "text/plain": [
       "4"
      ]
     },
     "execution_count": 4,
     "metadata": {},
     "output_type": "execute_result"
    }
   ],
   "source": [
    "# Multiplication\n",
    "2*2"
   ]
  },
  {
   "cell_type": "code",
   "execution_count": 5,
   "id": "f04e4b9d",
   "metadata": {},
   "outputs": [
    {
     "data": {
      "text/plain": [
       "1.5"
      ]
     },
     "execution_count": 5,
     "metadata": {},
     "output_type": "execute_result"
    }
   ],
   "source": [
    "# Division\n",
    "3/2"
   ]
  },
  {
   "cell_type": "code",
   "execution_count": 9,
   "id": "60c8c48f",
   "metadata": {},
   "outputs": [
    {
     "data": {
      "text/plain": [
       "1"
      ]
     },
     "execution_count": 9,
     "metadata": {},
     "output_type": "execute_result"
    }
   ],
   "source": [
    "# Floor Division\n",
    "7//4"
   ]
  },
  {
   "cell_type": "markdown",
   "id": "cbb13d01",
   "metadata": {},
   "source": [
    "Hold on a moment! Something seems off here. I was under the impression that 7 divided by 4 equals 1.75, not 1.\n",
    "\n",
    "The discrepancy arises because we're employing \"floor\" division. When we use the // operator (two forward slashes), it discards the decimal part without rounding, resulting in an integer outcome."
   ]
  },
  {
   "cell_type": "markdown",
   "id": "767ad0ea",
   "metadata": {},
   "source": [
    "What if we're interested in obtaining the remainder after performing a division?"
   ]
  },
  {
   "cell_type": "code",
   "execution_count": 10,
   "id": "ec4b3a3c",
   "metadata": {},
   "outputs": [
    {
     "data": {
      "text/plain": [
       "3"
      ]
     },
     "execution_count": 10,
     "metadata": {},
     "output_type": "execute_result"
    }
   ],
   "source": [
    "# Modulo\n",
    "7%4"
   ]
  },
  {
   "cell_type": "markdown",
   "id": "d5b4f53a",
   "metadata": {},
   "source": [
    "4 goes into 7 once, with a remainder of 3. The % operator returns the remainder after division."
   ]
  },
  {
   "cell_type": "markdown",
   "id": "a8b6e41f",
   "metadata": {},
   "source": [
    "# Arithemetic Continued"
   ]
  },
  {
   "cell_type": "code",
   "execution_count": 13,
   "id": "c909932b",
   "metadata": {},
   "outputs": [
    {
     "data": {
      "text/plain": [
       "8"
      ]
     },
     "execution_count": 13,
     "metadata": {},
     "output_type": "execute_result"
    }
   ],
   "source": [
    "# power\n",
    "2**3"
   ]
  },
  {
   "cell_type": "code",
   "execution_count": 20,
   "id": "f3225272",
   "metadata": {},
   "outputs": [
    {
     "data": {
      "text/plain": [
       "3.0"
      ]
     },
     "execution_count": 20,
     "metadata": {},
     "output_type": "execute_result"
    }
   ],
   "source": [
    "# This method can also be utilized to compute roots.\n",
    "9**0.5"
   ]
  },
  {
   "cell_type": "code",
   "execution_count": 18,
   "id": "2ddb4199",
   "metadata": {},
   "outputs": [
    {
     "data": {
      "text/plain": [
       "19"
      ]
     },
     "execution_count": 18,
     "metadata": {},
     "output_type": "execute_result"
    }
   ],
   "source": [
    "# Order of Operations followed in Python\n",
    "3 + 6 * 2 + 4"
   ]
  },
  {
   "cell_type": "code",
   "execution_count": 21,
   "id": "35acfd9c",
   "metadata": {},
   "outputs": [
    {
     "data": {
      "text/plain": [
       "84"
      ]
     },
     "execution_count": 21,
     "metadata": {},
     "output_type": "execute_result"
    }
   ],
   "source": [
    "# Parentheses can be employed to specify the sequence of operations\n",
    "(2+5) * (3+9)"
   ]
  },
  {
   "cell_type": "markdown",
   "id": "53524578",
   "metadata": {},
   "source": [
    "# Variable Assignment"
   ]
  },
  {
   "cell_type": "markdown",
   "id": "f16fd2a8",
   "metadata": {},
   "source": [
    "Now that we've explored the utilization of numbers in Python for basic arithmetic operations, let's delve into the process of assigning identifiers and creating variables.\n",
    "\n",
    "In Python, we employ a single equals sign to designate names to variables. Allow me to demonstrate a few examples of this practice."
   ]
  },
  {
   "cell_type": "code",
   "execution_count": 22,
   "id": "d75dedaa",
   "metadata": {},
   "outputs": [],
   "source": [
    "# We'll instantiate an object named \"a\" and assign it the value of 2\n",
    "a=2"
   ]
  },
  {
   "cell_type": "markdown",
   "id": "cda055d4",
   "metadata": {},
   "source": [
    "Now if i call a in my python script, it will treat value of a as 2."
   ]
  },
  {
   "cell_type": "code",
   "execution_count": 24,
   "id": "abb6ca84",
   "metadata": {},
   "outputs": [
    {
     "data": {
      "text/plain": [
       "4"
      ]
     },
     "execution_count": 24,
     "metadata": {},
     "output_type": "execute_result"
    }
   ],
   "source": [
    "# adding objects\n",
    "a+a"
   ]
  },
  {
   "cell_type": "markdown",
   "id": "67768f59",
   "metadata": {},
   "source": [
    "If we assign a new value to the variable, will Python allow it?"
   ]
  },
  {
   "cell_type": "code",
   "execution_count": 26,
   "id": "ea86717b",
   "metadata": {},
   "outputs": [],
   "source": [
    "#Reassigning\n",
    "a=9"
   ]
  },
  {
   "cell_type": "code",
   "execution_count": 27,
   "id": "fbd08b36",
   "metadata": {},
   "outputs": [
    {
     "data": {
      "text/plain": [
       "9"
      ]
     },
     "execution_count": 27,
     "metadata": {},
     "output_type": "execute_result"
    }
   ],
   "source": [
    "# Check\n",
    "a"
   ]
  },
  {
   "cell_type": "markdown",
   "id": "5e9381ac",
   "metadata": {},
   "source": [
    "Absolutely! Python permits you to overwrite existing variable names. Moreover, you can use the variables themselves when reassigning values. Allow me to illustrate with an example:"
   ]
  },
  {
   "cell_type": "code",
   "execution_count": 28,
   "id": "5f6af741",
   "metadata": {},
   "outputs": [],
   "source": [
    "# check\n",
    "a=7"
   ]
  },
  {
   "cell_type": "code",
   "execution_count": 29,
   "id": "d74637c3",
   "metadata": {},
   "outputs": [
    {
     "data": {
      "text/plain": [
       "14"
      ]
     },
     "execution_count": 29,
     "metadata": {},
     "output_type": "execute_result"
    }
   ],
   "source": [
    "a+a"
   ]
  },
  {
   "cell_type": "markdown",
   "id": "60f5fada",
   "metadata": {},
   "source": [
    "When assigning names to variables in Python, certain rules must be followed:\n",
    "1. Names cannot commence with a numerical digit.\n",
    "2. Spaces are prohibited; instead, use underscores (_) for separation.\n",
    "3. Special characters such as :'\",<>/?|()!@#$%^&*~-+ are not allowed.\n",
    "4. Adhering to PEP8 conventions, it's advisable to use lowercase names.\n",
    "5. It's recommended to avoid using 'l' (lowercase letter 'el'), 'O' (uppercase letter 'oh'), or 'I' (uppercase letter 'eye') as single-character variable names.\n",
    "6. Steer clear of words with reserved meanings in Python, such as \"list\" and \"str\"."
   ]
  },
  {
   "cell_type": "markdown",
   "id": "7d52cd32",
   "metadata": {},
   "source": [
    "Utilizing descriptive variable names can significantly enhance code clarity and organization in Python. For instance:"
   ]
  },
  {
   "cell_type": "code",
   "execution_count": 35,
   "id": "aba73cbb",
   "metadata": {},
   "outputs": [],
   "source": [
    "# Employ meaningful object names to enhance code clarity and comprehension!\n",
    "income = 550\n",
    "\n",
    "rate_of_tax = 0.3\n",
    "\n",
    "tax_payment = income * rate_of_tax"
   ]
  },
  {
   "cell_type": "code",
   "execution_count": 36,
   "id": "b4207d2d",
   "metadata": {},
   "outputs": [
    {
     "data": {
      "text/plain": [
       "165.0"
      ]
     },
     "execution_count": 36,
     "metadata": {},
     "output_type": "execute_result"
    }
   ],
   "source": [
    "# show taxes\n",
    "tax_payment"
   ]
  },
  {
   "cell_type": "markdown",
   "id": "6cf98a60",
   "metadata": {},
   "source": [
    "What have we covered so far? We've grasped the fundamentals of numbers in Python, delved into arithmetic operations, effectively utilizing Python as a rudimentary calculator. Furthermore, we concluded by exploring Variable Assignment in Python."
   ]
  },
  {
   "cell_type": "markdown",
   "id": "c0cfe32d",
   "metadata": {},
   "source": [
    "Next in line: String manipulation!"
   ]
  },
  {
   "cell_type": "markdown",
   "id": "1cd84287",
   "metadata": {},
   "source": [
    "# Author\n",
    "Pasang sherpa"
   ]
  },
  {
   "cell_type": "code",
   "execution_count": null,
   "id": "4714681f",
   "metadata": {},
   "outputs": [],
   "source": []
  }
 ],
 "metadata": {
  "kernelspec": {
   "display_name": "Python 3 (ipykernel)",
   "language": "python",
   "name": "python3"
  },
  "language_info": {
   "codemirror_mode": {
    "name": "ipython",
    "version": 3
   },
   "file_extension": ".py",
   "mimetype": "text/x-python",
   "name": "python",
   "nbconvert_exporter": "python",
   "pygments_lexer": "ipython3",
   "version": "3.11.7"
  }
 },
 "nbformat": 4,
 "nbformat_minor": 5
}
